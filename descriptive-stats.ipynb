{
  "cells": [
    {
      "cell_type": "markdown",
      "source": [
        "# Wisdom of the Tribe -- Descriptive Statistics\n",
        "### Justin M. Olds [github.com/jmolds](https://github.com/jmolds)\n",
        "\n",
        "**Project objectives:** \n",
        "* Identify film critics whose preferences align with a given person. \n",
        "* Provide film recommendations based on a person's \"tribe\" of likeminded critics.\n",
        "\n",
        "**Data:**\n",
        "* 165,332 critic reviews taken from [metacritic.com](https://www.metacritic.com)\n",
        "* corresponding to 7689 films\n",
        "* Reviews were scraped from [metacritic.com](https://www.metacritic.com) based on a list of 190,00 films obtained by scraping search results from [imdb.com](https://www.imdb.com) for the top 500 grossing films (in the US) for every year from 1980 to 2018. \n",
        "\n",
        "**Inital exploratory questions:**\n",
        "* What is the average number of reviews per film, what does the distirbution of total reviews for each films look like?\n",
        "* What is the average rating for films and what does distibutions of review averages look like?\n",
        "* What is the average standard deviation of ratings for films, what does this distibution look like, and which films have the hightest amount of variance (largest standard deviation values)? "
      ],
      "metadata": {}
    },
    {
      "cell_type": "code",
      "source": [
        "import sqlite3\n",
        "import pandas as pd\n",
        "import numpy as np\n",
        "import matplotlib.pyplot as plt\n",
        "import seaborn as sns\n",
        "from scipy.signal import savgol_filter\n",
        "\n",
        "pd.set_option('precision', 2)\n",
        "np.set_printoptions(precision=2)\n",
        "\n",
        "conn = sqlite3.connect(\"C:/Users/Justin/films_and_reviews2.db\")\n",
        "c = conn.cursor()"
      ],
      "outputs": [],
      "execution_count": 25,
      "metadata": {
        "collapsed": false,
        "outputHidden": false,
        "inputHidden": false
      }
    },
    {
      "cell_type": "code",
      "source": [
        "film_averages = pd.read_sql_query(\"\"\"\n",
        "    SELECT film_title, AVG(rating) AS RatingAVG, COUNT(*) as count, film_release_date, film_runtime, film_id\n",
        "    FROM film INNER JOIN review USING(film_id)\n",
        "    GROUP BY film_id\n",
        "\"\"\", conn)\n",
        "reviews = pd.read_sql_query(\"\"\"\n",
        "    SELECT *\n",
        "    FROM review \n",
        "\"\"\", conn)\n",
        "print(str(len(reviews)) + \" critic reviews from \" + str(len(film_averages)) + \" films from 1980 to 2018.\")"
      ],
      "outputs": [
        {
          "output_type": "stream",
          "name": "stdout",
          "text": [
            "165332 critic reviews from 7689 films from 1980 to 2018.\n"
          ]
        }
      ],
      "execution_count": 31,
      "metadata": {
        "collapsed": false,
        "outputHidden": false,
        "inputHidden": false
      }
    },
    {
      "cell_type": "code",
      "source": [
        "import plotly.plotly as py\n",
        "import plotly.tools as tls\n",
        "\n",
        "import matplotlib.pyplot as plt\n",
        "import numpy as np\n",
        "plt.hist(film_averages['RatingAVG'], bins=40)\n",
        "fig = plt.gcf()\n",
        "plotly_fig = tls.mpl_to_plotly( fig )\n",
        "py.iplot(plotly_fig, filename='mpl-basic-histogram')"
      ],
      "outputs": [
        {
          "output_type": "stream",
          "name": "stderr",
          "text": [
            "C:\\Users\\Justin\\Anaconda3\\lib\\site-packages\\IPython\\core\\display.py:689: UserWarning:\n",
            "\n",
            "Consider using IPython.display.IFrame instead\n",
            "\n"
          ]
        },
        {
          "output_type": "execute_result",
          "execution_count": 46,
          "data": {
            "text/plain": [
              "<plotly.tools.PlotlyDisplay object>"
            ],
            "text/html": [
              "<iframe id=\"igraph\" scrolling=\"no\" style=\"border:none;\" seamless=\"seamless\" src=\"https://plot.ly/~jolds/8.embed\" height=\"288px\" width=\"432px\"></iframe>"
            ]
          },
          "metadata": {}
        }
      ],
      "execution_count": 46,
      "metadata": {
        "collapsed": false,
        "outputHidden": false,
        "inputHidden": false
      }
    },
    {
      "cell_type": "code",
      "source": [],
      "outputs": [
        {
          "output_type": "stream",
          "name": "stdout",
          "text": [
            "\n",
            "Averages:\n",
            "RatingAVG    58.08\n",
            "dtype: float64\n"
          ]
        }
      ],
      "execution_count": 27,
      "metadata": {
        "collapsed": false,
        "outputHidden": false,
        "inputHidden": false
      }
    },
    {
      "cell_type": "code",
      "source": [
        "print('\\nMean of mean film ratings:')\n",
        "print(np.mean(film_averages[['RatingAVG']]))\n",
        "\n",
        "print('\\nStandard Deviation of mean film ratings:')\n",
        "print(np.std(film_averages[['RatingAVG']]))\n",
        "\n",
        "g = film_averages.groupby('RatingAVG')\n",
        "info = g['RatingAVG'].agg(['sum','count']).reset_index()\n",
        "\n",
        "plt.plot(info['RatingAVG'], savgol_filter(info['count'], 5, 1), label = 'Mean film rating') \n",
        "plt.xlabel('Rating')\n",
        "plt.ylabel('Frequency')\n",
        "plt.show()"
      ],
      "outputs": [
        {
          "output_type": "stream",
          "name": "stdout",
          "text": [
            "\n",
            "Mean of mean film ratings:\n",
            "RatingAVG    58.08\n",
            "dtype: float64\n",
            "\n",
            "Standard Deviation of mean film ratings:\n",
            "RatingAVG    15.61\n",
            "dtype: float64\n"
          ]
        },
        {
          "output_type": "stream",
          "name": "stderr",
          "text": [
            "C:\\Users\\Justin\\Anaconda3\\lib\\site-packages\\scipy\\signal\\_arraytools.py:45: FutureWarning:\n",
            "\n",
            "Using a non-tuple sequence for multidimensional indexing is deprecated; use `arr[tuple(seq)]` instead of `arr[seq]`. In the future this will be interpreted as an array index, `arr[np.array(seq)]`, which will result either in an error or a different result.\n",
            "\n"
          ]
        },
        {
          "output_type": "display_data",
          "data": {
            "text/plain": [
              "<Figure size 432x288 with 1 Axes>"
            ],
            "image/png": "[encoded data removed]"
          },
          "metadata": {
            "needs_background": "light"
          }
        }
      ],
      "execution_count": 47,
      "metadata": {
        "collapsed": false,
        "outputHidden": false,
        "inputHidden": false
      }
    },
    {
      "cell_type": "code",
      "source": [
        "hist_data = [df.RatingAVG]; group_labels = ['distplot']\n",
        "fig = ff.create_distplot(hist_data, group_labels, bin_size=.5)\n",
        "py.iplot(fig, filename='Basic Distplot')"
      ],
      "outputs": [
        {
          "output_type": "execute_result",
          "execution_count": 24,
          "data": {
            "text/plain": [
              "<plotly.tools.PlotlyDisplay object>"
            ],
            "text/html": [
              "<iframe id=\"igraph\" scrolling=\"no\" style=\"border:none;\" seamless=\"seamless\" src=\"https://plot.ly/~jolds/6.embed\" height=\"525px\" width=\"100%\"></iframe>"
            ]
          },
          "metadata": {}
        }
      ],
      "execution_count": 24,
      "metadata": {
        "collapsed": false,
        "outputHidden": false,
        "inputHidden": false
      }
    }
  ],
  "metadata": {
    "kernel_info": {
      "name": "python3"
    },
    "language_info": {
      "name": "python",
      "version": "3.7.1",
      "mimetype": "text/x-python",
      "codemirror_mode": {
        "name": "ipython",
        "version": 3
      },
      "pygments_lexer": "ipython3",
      "nbconvert_exporter": "python",
      "file_extension": ".py"
    },
    "kernelspec": {
      "name": "python3",
      "language": "python",
      "display_name": "Python 3"
    },
    "nteract": {
      "version": "0.12.3"
    }
  },
  "nbformat": 4,
  "nbformat_minor": 4
}