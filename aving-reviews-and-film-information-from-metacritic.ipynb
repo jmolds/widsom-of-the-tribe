{
  "cells": [
    {
      "cell_type": "markdown",
      "source": [
        "# Wisdom of the Tribe \n",
        "## Webcraping film and review information from metacritic.com\n",
        "### *Justin M. Olds* [github.com/jmolds](https://github.com/jmolds)\n",
        "---\n",
        "**Project Overview:** The ultimate purpose of this project is to develop a recommendation system for films based the match between a user's film preferences and the preferences of established film critics. This *Wisdom of the Tribes* approach contrasts with *Wisdom of the Masses* approaches provided by many popular websites, such as Metacritic and RottenTomatoes. \n",
        "\n",
        "---\n",
        "In this notebook, I showcase how a film and review information was scraped from metacritic.com. This involved a two-pronged approach:\n",
        "* **First**, searching by converting film titles to urls based on the metacritic url formatting and, \n",
        "* **Second**, if this approach did not return a webpage, a second approach of using an automated web browers (selenium module) to insert film titles into a search bar on metacritic.com was used. \n",
        "\n",
        "This resulted in **165,332 critic reviews** taken corresponding to **7,689 films**.\n",
        "\n",
        "---\n",
        "As a first step, a master list of 19,000 film titles was loaded based on a separate [webscraping notebook](https://github.com/jmolds/widsom-of-the-tribe/blob/master/imdb-master-film-list-webscraping.ipynb \"Notebook Link\")."
      ],
      "metadata": {}
    },
    {
      "cell_type": "code",
      "source": [
        "import selenium\n",
        "from selenium import webdriver\n",
        "from selenium.webdriver.common.keys import Keys\n",
        "import IPython\n",
        "from IPython.display import HTML\n",
        "from IPython.display import display\n",
        "import requests\n",
        "from bs4 import BeautifulSoup\n",
        "import time\n",
        "from tqdm import tqdm\n",
        "import csv\n",
        "import pandas as pd \n",
        "import numpy as np\n",
        "\nfilm_list = pd.read_csv('https://raw.githubusercontent.com/jmolds/widsom-of-the-tribe/master/film_list.csv', encoding = \"ISO-8859-1\", header=None)"
      ],
      "outputs": [],
      "execution_count": 8,
      "metadata": {
        "collapsed": false,
        "outputHidden": false,
        "inputHidden": false
      }
    },
    {
      "cell_type": "code",
      "source": [
        "print(len(film_list)) ## total number of films in the master list\n",
        "film_list[0:10] ## display first 10 film titles "
      ],
      "outputs": [
        {
          "output_type": "stream",
          "name": "stdout",
          "text": [
            "19000\n"
          ]
        },
        {
          "output_type": "execute_result",
          "execution_count": 13,
          "data": {
            "text/plain": [
              "                                                0\n",
              "0  Star Wars: Episode V - The Empire Strikes Back\n",
              "1                                     Superman II\n",
              "2                                    Nine to Five\n",
              "3                                      Stir Crazy\n",
              "4                                       Airplane!\n",
              "5                           Any Which Way You Can\n",
              "6                                Private Benjamin\n",
              "7                           Coal Miner's Daughter\n",
              "8                        Smokey and the Bandit II\n",
              "9                                 The Blue Lagoon"
            ],
            "text/html": [
              "<div>\n",
              "<style scoped>\n",
              "    .dataframe tbody tr th:only-of-type {\n",
              "        vertical-align: middle;\n",
              "    }\n",
              "\n",
              "    .dataframe tbody tr th {\n",
              "        vertical-align: top;\n",
              "    }\n",
              "\n",
              "    .dataframe thead th {\n",
              "        text-align: right;\n",
              "    }\n",
              "</style>\n",
              "<table border=\"1\" class=\"dataframe\">\n",
              "  <thead>\n",
              "    <tr style=\"text-align: right;\">\n",
              "      <th></th>\n",
              "      <th>0</th>\n",
              "    </tr>\n",
              "  </thead>\n",
              "  <tbody>\n",
              "    <tr>\n",
              "      <th>0</th>\n",
              "      <td>Star Wars: Episode V - The Empire Strikes Back</td>\n",
              "    </tr>\n",
              "    <tr>\n",
              "      <th>1</th>\n",
              "      <td>Superman II</td>\n",
              "    </tr>\n",
              "    <tr>\n",
              "      <th>2</th>\n",
              "      <td>Nine to Five</td>\n",
              "    </tr>\n",
              "    <tr>\n",
              "      <th>3</th>\n",
              "      <td>Stir Crazy</td>\n",
              "    </tr>\n",
              "    <tr>\n",
              "      <th>4</th>\n",
              "      <td>Airplane!</td>\n",
              "    </tr>\n",
              "    <tr>\n",
              "      <th>5</th>\n",
              "      <td>Any Which Way You Can</td>\n",
              "    </tr>\n",
              "    <tr>\n",
              "      <th>6</th>\n",
              "      <td>Private Benjamin</td>\n",
              "    </tr>\n",
              "    <tr>\n",
              "      <th>7</th>\n",
              "      <td>Coal Miner's Daughter</td>\n",
              "    </tr>\n",
              "    <tr>\n",
              "      <th>8</th>\n",
              "      <td>Smokey and the Bandit II</td>\n",
              "    </tr>\n",
              "    <tr>\n",
              "      <th>9</th>\n",
              "      <td>The Blue Lagoon</td>\n",
              "    </tr>\n",
              "  </tbody>\n",
              "</table>\n",
              "</div>"
            ]
          },
          "metadata": {}
        }
      ],
      "execution_count": 13,
      "metadata": {
        "collapsed": false,
        "outputHidden": false,
        "inputHidden": false
      }
    },
    {
      "cell_type": "markdown",
      "source": [
        "---\n",
        "Next step is to create list type copies of the film list to to use for converting film title strings into urls. \n",
        "\nNote: The format for urls on metacritic.com is to delete punctuation and replace spaces with hyphens. This is shown in the code below. "
      ],
      "metadata": {}
    },
    {
      "cell_type": "code",
      "source": [
        "## save film title strings as list objects (one for the film review pages and one for the film pages)\n",
        "film_list_hyphens = film_list[0].tolist()\n",
        "reviews_list_hyphens = film_list[0].tolist()\n",
        "\n",
        "#replace string elements to correspond with metacritic url formatting\n",
        "for x in range(0,len(film_list_hyphens)):\n",
        "    film_list_hyphens[x] = film_list_hyphens[x].replace(\" \",\"-\") #replace spaces with hyphens\n",
        "    film_list_hyphens[x] = film_list_hyphens[x].replace(\":\",\"\") #delete punction\n",
        "    film_list_hyphens[x] = film_list_hyphens[x].replace(\".\",\"\") #\n",
        "    film_list_hyphens[x] = film_list_hyphens[x].replace(\",\",\"\") #\n",
        "    film_list_hyphens[x] = film_list_hyphens[x].replace(\"'\",\"\") #\n",
        "    film_list_hyphens[x] = film_list_hyphens[x].replace(\"& \",\"\") #\n",
        "    film_list_hyphens[x] = film_list_hyphens[x].lower()         # all lowercase\n",
        "\n",
        "#create full urls for review pages and film pages\n",
        "for x in range(0,len(film_list_hyphens)):\n",
        "    reviews_list_hyphens[x] = \"https://www.metacritic.com/movie/\" + film_list_hyphens[x] +  \"/critic-reviews\"\n",
        "    film_list_hyphens[x] = \"https://www.metacritic.com/movie/\" + film_list_hyphens[x]"
      ],
      "outputs": [],
      "execution_count": 33,
      "metadata": {
        "collapsed": false,
        "outputHidden": false,
        "inputHidden": false
      }
    },
    {
      "cell_type": "code",
      "source": [
        "##examples of each are shown below\n",
        "print(film_list_hyphens[0])\n",
        "print(reviews_list_hyphens[0])"
      ],
      "outputs": [
        {
          "output_type": "stream",
          "name": "stdout",
          "text": [
            "https://www.metacritic.com/movie/star-wars-episode-v---the-empire-strikes-back\n",
            "https://www.metacritic.com/movie/star-wars-episode-v---the-empire-strikes-back/critic-reviews\n"
          ]
        }
      ],
      "execution_count": 36,
      "metadata": {
        "collapsed": false,
        "outputHidden": false,
        "inputHidden": false
      }
    },
    {
      "cell_type": "markdown",
      "source": [
        "These url strings are used for the first approach to webscraping. The second approach entails using an automated web browser.\n",
        "\n",
        "**Note:** To run this code, you will need to download a webdriver application and set it as shown below. \n",
        "\nWebdriver link: http://chromedriver.chromium.org/downloads"
      ],
      "metadata": {}
    },
    {
      "cell_type": "code",
      "source": [
        "         ###this will need to be edited based on where your chromedriver is saved\n",
        "browser = webdriver.Chrome(\"/Users/Justin/Dropbox/Python and SQL/chromedriver\")\n",
        "## open the automated browser to the metacritic movies page\n",
        "browser.get('http://www.metacritic.com/movies')\n",
        "## some websites deny get requests unless specific user information is provided. \n",
        "## Metacritic does.\n",
        "headers = {'User-Agent': 'Mozilla/5.0 (Macintosh; Intel Mac OS X 10_11_5) AppleWebKit/537.36 (KHTML, like Gecko) Chrome/50.0.2661.102 Safari/537.36'}"
      ],
      "outputs": [],
      "execution_count": 38,
      "metadata": {
        "collapsed": false,
        "outputHidden": false,
        "inputHidden": false
      }
    },
    {
      "cell_type": "markdown",
      "source": [
        "### Webscraping from metacritic\n",
        "The following loop does the following:\n",
        "* Attempt to request and save html based on the urls generated above.\n",
        "* check if a webpage was found (.status_code would be 200 if received)\n",
        "* if one was found both the film page and review pages are saved\n",
        "* if one was not found the automated web browser inserts the film title into the search bar at metacritic.com\n",
        "* if any results match the film title string, the first title is clicked on and the retrieved webpage is checked to see if the title of the film entered into the search bar matches the film title on the webpage.\n",
        "* if the titles match, the film webpage and corresponding critic reviews webpage are saved.\n",
        "\n**Note:** Because this loop requires a long time (roughly 2 full days for my laptop) to complete. Errors on any attempts are logged such that the loop and be continued later and failed attempts can be doubled checked."
      ],
      "metadata": {}
    },
    {
      "cell_type": "code",
      "source": [
        "browser.implicitly_wait(3)   ### allow 3 seconds for webpages to respond\n",
        "review_pages = [None] * len(film_list) ##empty list to save review page information\n",
        "film_pages = [None] * len(film_list)  ##empty list to save film page information\n",
        "error_index = list()  #empty list to save any erroneous iterations\n",
        "\n",
        "for x in tqdm(range(0, len(film_list))):   #tqdm allows shows a loop progress bar\n",
        "    if film_pages[x] is None: ##for loop restarts to pick up where ended\n",
        "        try:\n",
        "            review_pages[x] = requests.get(reviews_list_hyphens[x], headers=headers)       \n",
        "            if review_pages[x].status_code != 200:   #checks if the get.request returned a page\n",
        "                searchBar = browser.find_element_by_id('primary_search_box')\n",
        "                searchBar.send_keys(film_list[x])\n",
        "                time.sleep(2)  \n",
        "                elem = browser.find_elements_by_class_name('search_results_item')\n",
        "                time.sleep(2)  \n",
        "                if len(elem) > 0:  #check if any search results are returned \n",
        "                    elem[0].click()  ##click on first item\n",
        "                    time.sleep(3) \n",
        "                    film_url = browser.current_url\n",
        "                    critics_url = browser.current_url + '/critic-reviews'\n",
        "                    review_pages[x] = requests.get(critics_url, headers=headers)\n",
        "                    film_pages[x] = requests.get(film_url, headers=headers)\n",
        "                    soup = BeautifulSoup(review_pages[x].content, 'html.parser')\n",
        "                    header_check = soup.select(\"a > h1\")\n",
        "                    header_check = str(header_check)\n",
        "                    header_check = header_check.partition('</h1>')[0]\n",
        "                    header_check = header_check.partition('<h1>')[2]\n",
        "                    if header_check != film_list[x]:\n",
        "                        review_pages[x] = \"No page found\"\n",
        "                        film_pages[x] = \"No page found\"\n",
        "                else: \n",
        "                    review_pages[x] = \"No page found\" \n",
        "                    film_pages[x] = \"No page found\"\n",
        "                    searchBar.send_keys(100 * Keys.BACKSPACE)\n",
        "                    time.sleep(2)\n",
        "            else:\n",
        "                film_pages[x] = requests.get(film_list_hyphens[x], headers=headers)\n",
        "        except (Exception, RuntimeError, ConnectionError):\n",
        "            error_index.append(x)\n",
        "            continue\n",
        "    \n",
        "restart = review_pages.index(None) #save loop starting value   "
      ],
      "outputs": [],
      "execution_count": null,
      "metadata": {
        "collapsed": false,
        "outputHidden": false,
        "inputHidden": false
      }
    },
    {
      "cell_type": "markdown",
      "source": [
        "Importantly, to save the result of such a time consuming loop. The shelve module is used to reinstate the saved objects. "
      ],
      "metadata": {}
    },
    {
      "cell_type": "code",
      "source": [
        "import shelve \n",
        "s = shelve.open(\"films.requests.dat\") \n",
        "s[\"film_pages\"]= film_pages\n",
        "s[\"review_pages\"]= review_pages\n",
        "s[\"error_index\"]= error_index\n",
        "s.close() \n",
        "\n",
        "## to reinstate the page objects for later parsing and insertion into a database\n",
        "r = shelve.open(\"films.requests.dat\") \n",
        "film_pages = r[\"film_pages\"] \n",
        "review_pages = r[\"review_pages\"] \n",
        "error_index = r[\"error_index\"] \n",
        "r.close()"
      ],
      "outputs": [],
      "execution_count": null,
      "metadata": {
        "collapsed": false,
        "outputHidden": false,
        "inputHidden": false
      }
    }
  ],
  "metadata": {
    "kernel_info": {
      "name": "python3"
    },
    "language_info": {
      "name": "python",
      "version": "3.7.1",
      "mimetype": "text/x-python",
      "codemirror_mode": {
        "name": "ipython",
        "version": 3
      },
      "pygments_lexer": "ipython3",
      "nbconvert_exporter": "python",
      "file_extension": ".py"
    },
    "kernelspec": {
      "name": "python3",
      "language": "python",
      "display_name": "Python 3"
    },
    "nteract": {
      "version": "0.12.3"
    }
  },
  "nbformat": 4,
  "nbformat_minor": 4
}