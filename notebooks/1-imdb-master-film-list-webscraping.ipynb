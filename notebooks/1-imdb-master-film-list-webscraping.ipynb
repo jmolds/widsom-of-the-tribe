{
  "cells": [
    {
      "cell_type": "markdown",
      "source": [
        "# Wisdom of the Tribe \n",
        "## Webcraping Master Film List from imdb.com \n",
        "### *Justin M. Olds* [github.com/jmolds](https://github.com/jmolds)\n",
        "---\n",
        "**Project Overview:** The ultimate purpose of this project is to develop a recommendation system for films based the match between a user's film preferences and the preferences of established film critics. This *Wisdom of the Tribes* approach contrasts with *Wisdom of the Masses* approaches provided by many popular websites, such as Metacritic and RottenTomatoes. \n",
        "\n",
        "---\n",
        "In this notebook, I showcase how a master list of 19,000 film titles was webscraped from imdb.com. \n",
        "\n",
        "To begin, I will display an example webpage that I used to scrape film titles from. I chose to use imdb, not only because it likely has the largest film database available online, but also because it allows for advanced searches based on release date.\n",
        "\n![Example Advanced Search page](https://github.com/jmolds/widsom-of-the-tribe/blob/master/data-images-etc/imdb-page-example.JPG?raw=true)"
      ],
      "metadata": {}
    },
    {
      "cell_type": "markdown",
      "source": [
        "With these pages, the html tags/classes/divs specific for identifying the film title text within each page was identified using google chrome dev tools (e.g., inspect element). As shown below, the specific class was named **'lister-item-header'**.\n",
        "![Example Dev tools page](https://github.com/jmolds/widsom-of-the-tribe/blob/master/data-images-etc/imdb-devtools-example.JPG?raw=true)\n"
      ],
      "metadata": {}
    },
    {
      "cell_type": "markdown",
      "source": [
        "Next, I show how a for loop was developed to iterate across search pages to collect the top 500 grossing films (US) for each year form 1980 through 2018. Additionally, the film titles were scraped from each page."
      ],
      "metadata": {}
    },
    {
      "cell_type": "code",
      "source": [
        "import IPython\n",
        "from IPython.display import HTML\n",
        "from IPython.display import display\n",
        "import requests   ##module for obtaining webpage html data\n",
        "from bs4 import BeautifulSoup ##module for parsing webpage data based on tags etc. \n",
        "import time\n",
        "from tqdm import tqdm ## module for displaying progress while running loops\n",
        "import csv ## module for reading a writing python objects to and from csv files\n",
        "\n",
        "film_list = list()   ### create empty list object to add film titles to\n",
        "films_per_page_range = range(0,250) ### each page contained 250 film titles\n",
        "\n",
        "## because each loops scraped two different imdb search pages separate temporary lists \n",
        "## were created to .append with the master film_list object at the end of the loop\n",
        "temp_films_list1 = [None] * len(films_per_page_range) \n",
        "temp_films_list2 = [None] * len(films_per_page_range) \n",
        "\n",
        "year_range = range(1980,2018) ## the specific range of years to loop over\n",
        "                              ## these 'year' values were added to url strings\n",
        "    \n",
        "for year in tqdm(year_range): \n",
        "    y1 = year   ## save new iterator variable to concatenate with url strings\n",
        "    ##url for first 250 films per year\n",
        "    imdb_page_1 = \"https://www.imdb.com/search/title?title_type=feature&release_date=\" + str(y1) + \"-01-01,\" + str(y1) + \"-12-31&view=simple&sort=boxoffice_gross_us,desc&count=250&page=1&ref_=adv_nxt\"\n",
        "    ##url second 250 films per year\n",
        "    imdb_page_2 = \"https://www.imdb.com/search/title?title_type=feature&release_date=\" + str(y1) + \"-01-01,\" + str(y1) + \"-12-31&view=simple&sort=boxoffice_gross_us,desc&count=250&start=251&ref_=adv_nxt\"\n",
        "    #imdb_page_2 = \"https://www.imdb.com/search/title?title_type=feature&release_date=\" + str(y1) + \"-01-01,\" + str(y1) + \"-12-31&view=simple&sort=boxoffice_gross_us,desc&count=250&page=2&ref_=adv_nxt\"\n",
        "    page1 = requests.get(imdb_page_1)  ## obtain html for first 250 films\n",
        "    page2 = requests.get(imdb_page_2)  ## obtain html for second 250 films\n",
        "    soup1 = BeautifulSoup(page1.content, 'html.parser')  ##parse html object to obtain film titles\n",
        "    soup2 = BeautifulSoup(page2.content, 'html.parser') \n",
        "    #### using the dev tools of google chrome\n",
        "    lister_tag_list1 = soup1.find_all(class_='lister-item-header') ## find_all returns a list for all elements \n",
        "    lister_tag_list2 = soup2.find_all(class_='lister-item-header') ## with the class associated with film titles\n",
        "    ## embedded loop to islolate the text for each film title returned within the \n",
        "    ## lister-tag objects\n",
        "    for film in films_per_page_range:\n",
        "        temp_films_list1[film] = str(lister_tag_list1[film])\n",
        "        temp_films_list1[film] = temp_films_list1[film].partition('</a>')[0] \n",
        "        temp_films_list1[film] = temp_films_list1[film].partition('li_tt\">')[2]\n",
        "        temp_films_list2[film] = str(lister_tag_list2[film])\n",
        "        temp_films_list2[film] = temp_films_list2[film].partition('</a>')[0]\n",
        "        temp_films_list2[film] = temp_films_list2[film].partition('li_tt\">')[2]\n",
        "    film_list.extend(temp_films_list1) ##add film titles to film_list object\n",
        "    film_list.extend(temp_films_list2)        \n",
        "    \n",
        "## loop to scan entire film list and eliminate the html code for ampersands\n",
        "for x in range(0,len(film_list)):\n",
        "    film_list[x] = film_list[x].replace(\"amp;\",\"\")"
      ],
      "outputs": [
        {
          "output_type": "stream",
          "name": "stderr",
          "text": [
            "100%|██████████| 38/38 [10:51<00:00, 10.81s/it]\n"
          ]
        }
      ],
      "execution_count": 1,
      "metadata": {
        "collapsed": false,
        "outputHidden": false,
        "inputHidden": false
      }
    },
    {
      "cell_type": "code",
      "source": [
        "print(len(film_list)) #total number of films\n",
        "print(film_list[0:100]) ##first 100 films from the list"
      ],
      "outputs": [
        {
          "output_type": "stream",
          "name": "stdout",
          "text": [
            "19000\n",
            "['Star Wars: Episode V - The Empire Strikes Back', 'Superman II', 'Nine to Five', 'Stir Crazy', 'Airplane!', 'Any Which Way You Can', 'Private Benjamin', \"Coal Miner's Daughter\", 'Smokey and the Bandit II', 'The Blue Lagoon', 'The Blues Brothers', 'Ordinary People', 'Urban Cowboy', 'Popeye', 'The Shining', 'Seems Like Old Times', \"Cheech and Chong's Next Movie\", 'Caddyshack', 'Friday the 13th', 'Brubaker', 'Little Darlings', 'Dressed to Kill', 'The Gods Must Be Crazy', 'The Jazz Singer', 'Bronco Billy', 'Raging Bull', 'The Long Riders', 'American Gigolo', 'Xanadu', 'My Bodyguard', 'The Fog', 'Altered States', 'Cruising', 'The Octagon', 'Windwalker', 'The Private Eyes', 'Herbie Goes Bananas', 'Honeysuckle Rose', 'The Final Countdown', 'Hero at Large', 'The Island', 'First Family', 'Raise the Titanic', 'Prom Night', 'The Nude Bomb', 'Oh, God! Book II', 'The Competition', 'Wholly Moses!', \"The Last Flight of Noah's Ark\", \"It's My Turn\", 'The Fiendish Plot of Dr. Fu Manchu', 'Stardust Memories', 'The Hollywood Knights', 'Serial', 'Somewhere in Time', 'The Awakening', 'Fatso', 'Breaker Morant', 'The Stunt Man', 'La Cage aux Folles II', 'Where the Buffalo Roam', 'The Gong Show Movie', 'Motel Hell', 'Little Miss Marker', 'Oh Heavenly Dog', 'Hangar 18', 'The Watcher in the Woods', 'The Boogey Man', 'Willie & Phil', 'Melvin and Howard', 'Roadie', 'Resurrection', \"Heaven's Gate\", 'Loving Couples', 'Moscow Does Not Believe in Tears', 'Windows', 'Just Tell Me What You Want', \"Bon Voyage, Charlie Brown (and Don't Come Back!!)\", 'In God We Trust (or Gimme That Prime Time Religion)', \"Can't Stop the Music\", 'When Time Ran Out...', 'Why Would I Lie?', 'Those Lips, Those Eyes', 'Phobia', 'The King and the Mockingbird', 'Mantis Fist Fighter', 'City of Women', 'Fame', 'Tricks of the Trade', 'También encontré mariquitas felices', 'Aufregung um Jesus', 'Serebryanyy rog Ala-Tau', 'Tayna poyushchego ostrova', 'Vozdushnye peshekhody', 'Zavtra vyydesh?', 'The Problem of Patty Melt', 'Saranam Ayyappa', \"Nobody's Boy Remi\", 'Nishan e Haider: Captain Mohammad Sarwar Shaheed', 'Yubi wa dame yo']\n"
          ]
        }
      ],
      "execution_count": 3,
      "metadata": {
        "collapsed": false,
        "outputHidden": false,
        "inputHidden": false
      }
    },
    {
      "cell_type": "markdown",
      "source": [
        "Save the film_list object as a csv file for later use:"
      ],
      "metadata": {}
    },
    {
      "cell_type": "code",
      "source": [
        "## write list object to csv file\n",
        "with open('C:/Users/Justin/Dropbox/Python and SQL/film_list.csv', 'w', newline='') as myfile:\n",
        "    wr = csv.writer(myfile, quoting=csv.QUOTE_ALL)\n",
        "    for x in range(0,len(film_list)):\n",
        "        wr.writerow([film_list[x]])\n",
        "\n",
        "## read csv file         \n",
        "film_list = []\n",
        "with open('C:/Users/Justin/Dropbox/Python and SQL/film_list.csv', newline='') as csvfile:\n",
        "    spamreader = csv.reader(csvfile, delimiter=',')\n",
        "    for row in spamreader:\n",
        "        film_list.append(row[0])"
      ],
      "outputs": [],
      "execution_count": null,
      "metadata": {
        "collapsed": false,
        "outputHidden": false,
        "inputHidden": false
      }
    }
  ],
  "metadata": {
    "kernel_info": {
      "name": "python3"
    },
    "language_info": {
      "name": "python",
      "version": "3.7.1",
      "mimetype": "text/x-python",
      "codemirror_mode": {
        "name": "ipython",
        "version": 3
      },
      "pygments_lexer": "ipython3",
      "nbconvert_exporter": "python",
      "file_extension": ".py"
    },
    "kernelspec": {
      "name": "python3",
      "language": "python",
      "display_name": "Python 3"
    },
    "nteract": {
      "version": "0.12.3"
    }
  },
  "nbformat": 4,
  "nbformat_minor": 4
}